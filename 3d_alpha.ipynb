{
 "cells": [
  {
   "cell_type": "code",
   "execution_count": 8,
   "id": "tight-beauty",
   "metadata": {
    "scrolled": true
   },
   "outputs": [
    {
     "name": "stdout",
     "output_type": "stream",
     "text": [
      "dataset shape: (3, 20000)\n"
     ]
    }
   ],
   "source": [
    "import matplotlib.pyplot as plt\n",
    "from mpl_toolkits.mplot3d import Axes3D\n",
    "import numpy as np\n",
    "import os\n",
    "import pandas as pd\n",
    "import random\n",
    "import scipy.linalg\n",
    "import seaborn as sns\n",
    "import time\n",
    "from tqdm.notebook import tqdm\n",
    "from scipy.sparse.linalg.eigen.arpack import eigsh as largest_eigsh\n",
    "%matplotlib inline\n",
    "\n",
    "\n",
    "# system_name =  'Rossler' \n",
    "# system_name = 'Rabinovich Fabrikant'\n",
    "system_name =  'Lorenz'\n",
    "\n",
    "U0 = np.loadtxt('dataset/matlab_gendata/'+system_name+'.csv', delimiter=',').T[:]\n",
    "\n",
    "U = U0 + np.random.randn(*U0.shape)*1e-3\n",
    "U = np.atleast_2d(U)\n",
    "num_prepare = 1000\n",
    "train_start = num_prepare\n",
    "num_train = 10000\n",
    "val_start = num_prepare + num_train\n",
    "num_val = 1000\n",
    "test_start = num_prepare + num_train + num_val\n",
    "num_test = 5000\n",
    "print('dataset shape:', U.shape)\n",
    "\n",
    "seed = 42\n",
    "err = {}"
   ]
  },
  {
   "cell_type": "code",
   "execution_count": 14,
   "id": "brave-characteristic",
   "metadata": {
    "scrolled": true
   },
   "outputs": [
    {
     "data": {
      "application/vnd.jupyter.widget-view+json": {
       "model_id": "4856245e2bb14380b61f60a212bdc48b",
       "version_major": 2,
       "version_minor": 0
      },
      "text/plain": [
       "  0%|          | 0/1 [00:00<?, ?it/s]"
      ]
     },
     "metadata": {},
     "output_type": "display_data"
    },
    {
     "name": "stdout",
     "output_type": "stream",
     "text": [
      "pre_output shape: (101, 10000)\n",
      "W_out shape: (3, 101)\n"
     ]
    },
    {
     "data": {
      "application/vnd.jupyter.widget-view+json": {
       "model_id": "2f5d57769ebb4ce098d2bb71e2c8ef20",
       "version_major": 2,
       "version_minor": 0
      },
      "text/plain": [
       "  0%|          | 0/100 [00:00<?, ?it/s]"
      ]
     },
     "metadata": {},
     "output_type": "display_data"
    },
    {
     "data": {
      "application/vnd.jupyter.widget-view+json": {
       "model_id": "326526e2d29c45b692067b773795d6d8",
       "version_major": 2,
       "version_minor": 0
      },
      "text/plain": [
       "  0%|          | 0/1 [00:00<?, ?it/s]"
      ]
     },
     "metadata": {},
     "output_type": "display_data"
    },
    {
     "name": "stdout",
     "output_type": "stream",
     "text": [
      "pre_output shape: (101, 10000)\n",
      "W_out shape: (3, 101)\n"
     ]
    },
    {
     "data": {
      "application/vnd.jupyter.widget-view+json": {
       "model_id": "d122899c4c084445b4fca54a291fd6b0",
       "version_major": 2,
       "version_minor": 0
      },
      "text/plain": [
       "  0%|          | 0/100 [00:00<?, ?it/s]"
      ]
     },
     "metadata": {},
     "output_type": "display_data"
    },
    {
     "data": {
      "application/vnd.jupyter.widget-view+json": {
       "model_id": "ed4731cc40514abcafb04bbb081bc194",
       "version_major": 2,
       "version_minor": 0
      },
      "text/plain": [
       "  0%|          | 0/1 [00:00<?, ?it/s]"
      ]
     },
     "metadata": {},
     "output_type": "display_data"
    },
    {
     "name": "stdout",
     "output_type": "stream",
     "text": [
      "pre_output shape: (101, 10000)\n",
      "W_out shape: (3, 101)\n"
     ]
    },
    {
     "data": {
      "application/vnd.jupyter.widget-view+json": {
       "model_id": "3bf44be6f88e4c0f8f38efe8c748e8b7",
       "version_major": 2,
       "version_minor": 0
      },
      "text/plain": [
       "  0%|          | 0/100 [00:00<?, ?it/s]"
      ]
     },
     "metadata": {},
     "output_type": "display_data"
    },
    {
     "data": {
      "application/vnd.jupyter.widget-view+json": {
       "model_id": "d2c79bd794c44ae98b632407e45eb4e5",
       "version_major": 2,
       "version_minor": 0
      },
      "text/plain": [
       "  0%|          | 0/1 [00:00<?, ?it/s]"
      ]
     },
     "metadata": {},
     "output_type": "display_data"
    },
    {
     "name": "stdout",
     "output_type": "stream",
     "text": [
      "pre_output shape: (101, 10000)\n",
      "W_out shape: (3, 101)\n"
     ]
    },
    {
     "data": {
      "application/vnd.jupyter.widget-view+json": {
       "model_id": "67003926141844039a1f97c9de9e5c6d",
       "version_major": 2,
       "version_minor": 0
      },
      "text/plain": [
       "  0%|          | 0/100 [00:00<?, ?it/s]"
      ]
     },
     "metadata": {},
     "output_type": "display_data"
    },
    {
     "data": {
      "application/vnd.jupyter.widget-view+json": {
       "model_id": "e119e599f814447b9a4a5a29d84be3ef",
       "version_major": 2,
       "version_minor": 0
      },
      "text/plain": [
       "  0%|          | 0/1 [00:00<?, ?it/s]"
      ]
     },
     "metadata": {},
     "output_type": "display_data"
    },
    {
     "name": "stdout",
     "output_type": "stream",
     "text": [
      "pre_output shape: (101, 10000)\n",
      "W_out shape: (3, 101)\n"
     ]
    },
    {
     "data": {
      "application/vnd.jupyter.widget-view+json": {
       "model_id": "dec80a59b51b43849b71ca440c07e7b5",
       "version_major": 2,
       "version_minor": 0
      },
      "text/plain": [
       "  0%|          | 0/100 [00:00<?, ?it/s]"
      ]
     },
     "metadata": {},
     "output_type": "display_data"
    },
    {
     "data": {
      "application/vnd.jupyter.widget-view+json": {
       "model_id": "56dd7a2df8954712803c68e2cfb058b4",
       "version_major": 2,
       "version_minor": 0
      },
      "text/plain": [
       "  0%|          | 0/1 [00:00<?, ?it/s]"
      ]
     },
     "metadata": {},
     "output_type": "display_data"
    },
    {
     "name": "stdout",
     "output_type": "stream",
     "text": [
      "pre_output shape: (101, 10000)\n",
      "W_out shape: (3, 101)\n"
     ]
    },
    {
     "data": {
      "application/vnd.jupyter.widget-view+json": {
       "model_id": "03bc95d34b3f4caa8e6b99f9fd7ed489",
       "version_major": 2,
       "version_minor": 0
      },
      "text/plain": [
       "  0%|          | 0/100 [00:00<?, ?it/s]"
      ]
     },
     "metadata": {},
     "output_type": "display_data"
    },
    {
     "data": {
      "application/vnd.jupyter.widget-view+json": {
       "model_id": "793d916e00124a5e83ced40b70999246",
       "version_major": 2,
       "version_minor": 0
      },
      "text/plain": [
       "  0%|          | 0/1 [00:00<?, ?it/s]"
      ]
     },
     "metadata": {},
     "output_type": "display_data"
    },
    {
     "name": "stdout",
     "output_type": "stream",
     "text": [
      "pre_output shape: (101, 10000)\n",
      "W_out shape: (3, 101)\n"
     ]
    },
    {
     "data": {
      "application/vnd.jupyter.widget-view+json": {
       "model_id": "ada598c255fa4180844b51f4d7c64d72",
       "version_major": 2,
       "version_minor": 0
      },
      "text/plain": [
       "  0%|          | 0/100 [00:00<?, ?it/s]"
      ]
     },
     "metadata": {},
     "output_type": "display_data"
    },
    {
     "data": {
      "application/vnd.jupyter.widget-view+json": {
       "model_id": "af45c63898104a99bc7dbe3b69329f85",
       "version_major": 2,
       "version_minor": 0
      },
      "text/plain": [
       "  0%|          | 0/1 [00:00<?, ?it/s]"
      ]
     },
     "metadata": {},
     "output_type": "display_data"
    },
    {
     "name": "stdout",
     "output_type": "stream",
     "text": [
      "pre_output shape: (101, 10000)\n",
      "W_out shape: (3, 101)\n"
     ]
    },
    {
     "data": {
      "application/vnd.jupyter.widget-view+json": {
       "model_id": "e40a6b4dc3a84706abfff9b814048b1a",
       "version_major": 2,
       "version_minor": 0
      },
      "text/plain": [
       "  0%|          | 0/100 [00:00<?, ?it/s]"
      ]
     },
     "metadata": {},
     "output_type": "display_data"
    },
    {
     "data": {
      "application/vnd.jupyter.widget-view+json": {
       "model_id": "0232e40ff6714ade8d1f9d45b9125e49",
       "version_major": 2,
       "version_minor": 0
      },
      "text/plain": [
       "  0%|          | 0/1 [00:00<?, ?it/s]"
      ]
     },
     "metadata": {},
     "output_type": "display_data"
    },
    {
     "name": "stdout",
     "output_type": "stream",
     "text": [
      "pre_output shape: (101, 10000)\n",
      "W_out shape: (3, 101)\n"
     ]
    },
    {
     "data": {
      "application/vnd.jupyter.widget-view+json": {
       "model_id": "ea1ca9fe12024b489a522fda1c992e7d",
       "version_major": 2,
       "version_minor": 0
      },
      "text/plain": [
       "  0%|          | 0/100 [00:00<?, ?it/s]"
      ]
     },
     "metadata": {},
     "output_type": "display_data"
    },
    {
     "data": {
      "application/vnd.jupyter.widget-view+json": {
       "model_id": "f6074277aa104d14a7e94672931e6984",
       "version_major": 2,
       "version_minor": 0
      },
      "text/plain": [
       "  0%|          | 0/1 [00:00<?, ?it/s]"
      ]
     },
     "metadata": {},
     "output_type": "display_data"
    },
    {
     "name": "stdout",
     "output_type": "stream",
     "text": [
      "pre_output shape: (101, 10000)\n",
      "W_out shape: (3, 101)\n"
     ]
    },
    {
     "data": {
      "application/vnd.jupyter.widget-view+json": {
       "model_id": "457b795e638746c1a64bb72090a216f7",
       "version_major": 2,
       "version_minor": 0
      },
      "text/plain": [
       "  0%|          | 0/100 [00:00<?, ?it/s]"
      ]
     },
     "metadata": {},
     "output_type": "display_data"
    }
   ],
   "source": [
    "nRes = 1\n",
    "inSize = U.shape[0]\n",
    "outSize = inSize  \n",
    "resSize = 100\n",
    "K = 0.99\n",
    "reg = 1e-6       # regularization coefficient \n",
    "input_scaling = 1\n",
    "\n",
    "for aa in [0.1*itr for itr in range(1,11)]:\n",
    "    random.seed(seed) \n",
    "    np.random.seed(seed)\n",
    "    \n",
    "    key = '1*1000 '+str(round(aa,2))\n",
    "    err[key] = []\n",
    "\n",
    "    Wins = []\n",
    "    Ws = []\n",
    "    Xs = []\n",
    "    ass = [aa for _ in range(1,nRes+1)]\n",
    "    for i in tqdm(range(nRes)):\n",
    "        a = ass[i]         # leaking rate\n",
    "        # generation of random weights\n",
    "        Win = (np.random.rand(resSize,1+inSize)-0.5) * input_scaling\n",
    "        W = np.random.rand(resSize,resSize)-0.5\n",
    "        largest_eigvals, _ = largest_eigsh(W@W.T, 1, which='LM')\n",
    "        rhoW = np.sqrt(largest_eigvals[0])\n",
    "#         W = W/rhoW*(K-1+a)/a \n",
    "        W = W/rhoW*K\n",
    "        X = np.zeros((resSize,U.shape[1]))\n",
    "        x = np.zeros([resSize,1])\n",
    "        for t in range(U.shape[1]):\n",
    "            u = U[:,t:t+1]\n",
    "            x = (1-a) * x + a * np.tanh( Win @ np.vstack((1,u)) + W @ x ) \n",
    "            X[:,t:t+1] = x\n",
    "\n",
    "        Wins.append(Win)\n",
    "        Ws.append(W)\n",
    "        Xs.append(X)\n",
    "\n",
    "    X = np.vstack(Xs)\n",
    "    \n",
    "\n",
    "    \n",
    "    # offline train\n",
    "    U_train = U[:,train_start : train_start + num_train]\n",
    "    X_train = X[:,train_start : train_start + num_train]\n",
    "    Y_train = U[:,train_start + 1 : train_start + num_train + 1]\n",
    "    H = np.vstack((np.ones((1,X_train.shape[1])), X_train))\n",
    "\n",
    "    Wout = Y_train @ H.T @ np.linalg.inv( H @ H.T + reg*np.eye(H.shape[0]))\n",
    "    print('pre_output shape:', H.shape)\n",
    "    print('W_out shape:', Wout.shape)\n",
    "\n",
    "\n",
    "    horizon = 100\n",
    "    num_test = 2000\n",
    "    for h in tqdm(range(horizon)):\n",
    "        if h == 0:\n",
    "            U_test = U[:,test_start : test_start + num_test].copy()\n",
    "            X_test = X[:,test_start : test_start + num_test].copy()\n",
    "        else:\n",
    "            U_test = Y_pred\n",
    "            for i in range(nRes):\n",
    "                a = ass[i]         # leaking rate\n",
    "                # generation of random weights\n",
    "                Win = Wins[i]\n",
    "                W = Ws[i]\n",
    "                X_test[i*resSize:(i+1)*resSize] = \\\n",
    "                    (1-a) * X_test[i*resSize:(i+1)*resSize] +\\\n",
    "                    a * np.tanh( Win @ np.vstack((np.ones((1,U_test.shape[1])),U_test)) + W @ X_test[i*resSize:(i+1)*resSize] ) \n",
    "        H = np.vstack((np.ones((1,num_test)),X_test))\n",
    "        Y_pred = Wout @ H\n",
    "        Y_true = U[:,test_start+h+1 : test_start + num_test + h+1]\n",
    "        err[key].append(np.average(np.square(Y_pred - Y_true)[0]))\n",
    "\n",
    "#     sns.heatmap(np.log(np.array(mse_history)))\n",
    "#     plt.show()\n",
    "\n",
    "#     plt.plot(np.array(mse_history)[:,-1])\n",
    "#     plt.yscale('log')\n",
    "\n",
    "\n",
    "#     plt.figure()\n",
    "#     corr = np.array(pd.DataFrame(H.T).corr())\n",
    "#     sns.heatmap(corr, xticklabels=False, yticklabels=False, cmap='bwr')\n",
    "#     plt.show()\n",
    "\n",
    "# horizon = 2000\n",
    "# num_test = 1\n",
    "# pred = []\n",
    "# print(U.shape)\n",
    "# for h in tqdm(range(horizon)):\n",
    "#     if h == 0:\n",
    "#         U_test = U[:,test_start : test_start + num_test].copy()\n",
    "#         X_test = X[:,test_start : test_start + num_test].copy()\n",
    "#     else:\n",
    "#         U_test = Y_pred\n",
    "#         for i in range(nRes):\n",
    "#             a = ass[i]        # leaking rate\n",
    "#             # generation of random weights\n",
    "#             Win = Wins[i]\n",
    "#             W = Ws[i]\n",
    "#             X_test[i*resSize:(i+1)*resSize] = \\\n",
    "#                 (1-a) * X_test[i*resSize:(i+1)*resSize] + \\\n",
    "#                 a * np.tanh( Win @ np.vstack((np.ones((1,num_test)),U_test)) + W @ X_test[i*resSize:(i+1)*resSize] ) \n",
    "\n",
    "#     H = np.vstack((np.ones((1,num_test)),X_test))\n",
    "#     Y_pred = Wout @ H\n",
    "#     pred.append(Y_pred[0])\n",
    "\n",
    "# plt.figure(figsize=(20,10))\n",
    "# pred = np.array(pred).T\n",
    "# print(pred.shape)\n",
    "# plt.plot(pred.T, label='pred')\n",
    "# plt.plot(U[0,test_start+1 : test_start + horizon +1], label='true')\n",
    "# plt.legend()\n",
    "# plt.show()\n",
    "\n"
   ]
  },
  {
   "cell_type": "code",
   "execution_count": 15,
   "id": "british-instrument",
   "metadata": {},
   "outputs": [
    {
     "data": {
      "image/png": "[encoded data removed]",
      "text/plain": [
       "<Figure size 432x288 with 1 Axes>"
      ]
     },
     "metadata": {
      "needs_background": "light"
     },
     "output_type": "display_data"
    }
   ],
   "source": [
    "plt.figure()\n",
    "for key in err:\n",
    "    if key.startswith('1*100'):\n",
    "        plt.plot(err[key], label=key)\n",
    "plt.yscale('log')\n",
    "plt.legend()\n",
    "plt.title(system_name)\n",
    "plt.show()\n",
    "\n"
   ]
  },
  {
   "cell_type": "code",
   "execution_count": null,
   "id": "tired-howard",
   "metadata": {},
   "outputs": [],
   "source": []
  },
  {
   "cell_type": "code",
   "execution_count": null,
   "id": "introductory-monaco",
   "metadata": {},
   "outputs": [],
   "source": []
  }
 ],
 "metadata": {
  "kernelspec": {
   "display_name": "Python 3",
   "language": "python",
   "name": "python3"
  },
  "language_info": {
   "codemirror_mode": {
    "name": "ipython",
    "version": 3
   },
   "file_extension": ".py",
   "mimetype": "text/x-python",
   "name": "python",
   "nbconvert_exporter": "python",
   "pygments_lexer": "ipython3",
   "version": "3.8.5"
  }
 },
 "nbformat": 4,
 "nbformat_minor": 5
}
