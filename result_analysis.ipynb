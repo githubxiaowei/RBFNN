{
 "cells": [
  {
   "cell_type": "code",
   "execution_count": 10,
   "metadata": {
    "scrolled": true
   },
   "outputs": [
    {
     "data": {
      "text/plain": [
       "{'chua1d', 'lorentz1d', 'rabinovich_fabrikant1d', 'rossler1d'}"
      ]
     },
     "execution_count": 10,
     "metadata": {},
     "output_type": "execute_result"
    }
   ],
   "source": [
    "import pandas as pd\n",
    "import numpy as np\n",
    "import matplotlib.pyplot as plt\n",
    "%matplotlib inline\n",
    "import seaborn as sns\n",
    "\n",
    "result_file0 = './result_1d_0.csv' \n",
    "df = pd.read_csv(result_file0, index_col = 'datetime')\n",
    "\n",
    "# result_file = './result.csv'\n",
    "# df = df.append(pd.read_csv(result_file, index_col = 'datetime'))\n",
    "# df = df.append(result)\n",
    "\n",
    "set(df['system_name'])"
   ]
  },
  {
   "cell_type": "code",
   "execution_count": 2,
   "metadata": {},
   "outputs": [
    {
     "name": "stdout",
     "output_type": "stream",
     "text": [
      "Empty DataFrame\n",
      "Columns: []\n",
      "Index: []\n"
     ]
    },
    {
     "data": {
      "text/plain": [
       "MultiIndex([], names=[None, None, 'nz', 'connectivity'])"
      ]
     },
     "execution_count": 2,
     "metadata": {},
     "output_type": "execute_result"
    }
   ],
   "source": [
    "system_name = 'chua'\n",
    "result = df[df['system_name'].isin([system_name]) & df['horizon'].isin([1])]\n",
    "\n",
    "temp = result.loc[result['model_name'] == 'RBFLN RE']\n",
    "pt = pd.pivot_table(temp,index=['n_history'],columns=['nz','connectivity'],values=['mse'],aggfunc=[np.min])\n",
    "print(pt)\n",
    "\n",
    "pt.columns"
   ]
  },
  {
   "cell_type": "code",
   "execution_count": 3,
   "metadata": {
    "scrolled": false
   },
   "outputs": [
    {
     "data": {
      "text/html": [
       "<div>\n",
       "<style scoped>\n",
       "    .dataframe tbody tr th:only-of-type {\n",
       "        vertical-align: middle;\n",
       "    }\n",
       "\n",
       "    .dataframe tbody tr th {\n",
       "        vertical-align: top;\n",
       "    }\n",
       "\n",
       "    .dataframe thead th {\n",
       "        text-align: right;\n",
       "    }\n",
       "</style>\n",
       "<table border=\"1\" class=\"dataframe\">\n",
       "  <thead>\n",
       "    <tr style=\"text-align: right;\">\n",
       "      <th></th>\n",
       "      <th>model_name</th>\n",
       "      <th>mse</th>\n",
       "      <th>n_history</th>\n",
       "    </tr>\n",
       "  </thead>\n",
       "  <tbody>\n",
       "    <tr>\n",
       "      <td>0</td>\n",
       "      <td>ESN</td>\n",
       "      <td>0.000003</td>\n",
       "      <td>1</td>\n",
       "    </tr>\n",
       "    <tr>\n",
       "      <td>1</td>\n",
       "      <td>RBFLN</td>\n",
       "      <td>0.000002</td>\n",
       "      <td>1</td>\n",
       "    </tr>\n",
       "    <tr>\n",
       "      <td>2</td>\n",
       "      <td>RBFLN RE 1</td>\n",
       "      <td>0.000002</td>\n",
       "      <td>1</td>\n",
       "    </tr>\n",
       "    <tr>\n",
       "      <td>3</td>\n",
       "      <td>RBFN</td>\n",
       "      <td>0.000002</td>\n",
       "      <td>1</td>\n",
       "    </tr>\n",
       "    <tr>\n",
       "      <td>4</td>\n",
       "      <td>VAR</td>\n",
       "      <td>0.000016</td>\n",
       "      <td>1</td>\n",
       "    </tr>\n",
       "    <tr>\n",
       "      <td>...</td>\n",
       "      <td>...</td>\n",
       "      <td>...</td>\n",
       "      <td>...</td>\n",
       "    </tr>\n",
       "    <tr>\n",
       "      <td>95</td>\n",
       "      <td>ESN</td>\n",
       "      <td>0.000004</td>\n",
       "      <td>30</td>\n",
       "    </tr>\n",
       "    <tr>\n",
       "      <td>96</td>\n",
       "      <td>RBFLN</td>\n",
       "      <td>0.000003</td>\n",
       "      <td>30</td>\n",
       "    </tr>\n",
       "    <tr>\n",
       "      <td>97</td>\n",
       "      <td>RBFLN RE 1</td>\n",
       "      <td>0.000001</td>\n",
       "      <td>30</td>\n",
       "    </tr>\n",
       "    <tr>\n",
       "      <td>98</td>\n",
       "      <td>RBFN</td>\n",
       "      <td>0.000026</td>\n",
       "      <td>30</td>\n",
       "    </tr>\n",
       "    <tr>\n",
       "      <td>99</td>\n",
       "      <td>VAR</td>\n",
       "      <td>0.000003</td>\n",
       "      <td>30</td>\n",
       "    </tr>\n",
       "  </tbody>\n",
       "</table>\n",
       "<p>100 rows × 3 columns</p>\n",
       "</div>"
      ],
      "text/plain": [
       "    model_name       mse  n_history\n",
       "0          ESN  0.000003          1\n",
       "1        RBFLN  0.000002          1\n",
       "2   RBFLN RE 1  0.000002          1\n",
       "3         RBFN  0.000002          1\n",
       "4          VAR  0.000016          1\n",
       "..         ...       ...        ...\n",
       "95         ESN  0.000004         30\n",
       "96       RBFLN  0.000003         30\n",
       "97  RBFLN RE 1  0.000001         30\n",
       "98        RBFN  0.000026         30\n",
       "99         VAR  0.000003         30\n",
       "\n",
       "[100 rows x 3 columns]"
      ]
     },
     "execution_count": 3,
     "metadata": {},
     "output_type": "execute_result"
    }
   ],
   "source": [
    "\n",
    "final = None\n",
    "for w in set(result['n_history']):\n",
    "#     fig, ax = plt.subplots()\n",
    "\n",
    "    temp = result.loc[result['n_history'] == w, ['model_name', 'mse', 'n_history']].groupby('model_name').min().reset_index()\n",
    "\n",
    "#     plt.bar(temp.index, temp.mse)\n",
    "#     ax.set_yscale(\"log\")\n",
    "#     plt.title(w)\n",
    "\n",
    "    final = temp if final is None else final.append(temp, ignore_index=True)\n",
    "\n",
    "final"
   ]
  },
  {
   "cell_type": "code",
   "execution_count": null,
   "metadata": {
    "scrolled": false
   },
   "outputs": [],
   "source": []
  },
  {
   "cell_type": "code",
   "execution_count": null,
   "metadata": {},
   "outputs": [],
   "source": []
  },
  {
   "cell_type": "code",
   "execution_count": 5,
   "metadata": {
    "scrolled": false
   },
   "outputs": [
    {
     "data": {
      "image/png": "[encoded data removed]",
      "text/plain": [
       "<Figure size 432x288 with 1 Axes>"
      ]
     },
     "metadata": {
      "needs_background": "light"
     },
     "output_type": "display_data"
    }
   ],
   "source": [
    "fig, ax = plt.subplots()\n",
    "model_names = ['RBFN', 'RBFLN', 'RBFLN RE 1', 'ESN', 'VAR', ]\n",
    "# model_names = [ 'RBFLN rc', 'RBFLN ESN']\n",
    "for name in model_names:\n",
    "\n",
    "    final.loc[final['model_name'] == name].set_index('n_history').sort_values(by='n_history').plot(ax = ax)\n",
    "\n",
    "# pt[('amin', 'mse', 100, 1.0)].plot(ax=ax)\n",
    "plt.legend(labels= model_names)\n",
    "\n",
    "ax.set_yscale(\"log\")\n",
    "ax.set_xscale(\"log\")\n",
    "plt.xlabel('window size')\n",
    "plt.ylabel('mean square error')\n",
    "plt.title(system_name)\n",
    "plt.savefig('../'+system_name+'_mse_window.pdf')\n",
    "plt.show()"
   ]
  },
  {
   "cell_type": "code",
   "execution_count": 107,
   "metadata": {},
   "outputs": [
    {
     "data": {
      "text/html": [
       "<div>\n",
       "<style scoped>\n",
       "    .dataframe tbody tr th:only-of-type {\n",
       "        vertical-align: middle;\n",
       "    }\n",
       "\n",
       "    .dataframe tbody tr th {\n",
       "        vertical-align: top;\n",
       "    }\n",
       "\n",
       "    .dataframe thead th {\n",
       "        text-align: right;\n",
       "    }\n",
       "</style>\n",
       "<table border=\"1\" class=\"dataframe\">\n",
       "  <thead>\n",
       "    <tr style=\"text-align: right;\">\n",
       "      <th></th>\n",
       "    </tr>\n",
       "  </thead>\n",
       "  <tbody>\n",
       "  </tbody>\n",
       "</table>\n",
       "</div>"
      ],
      "text/plain": [
       "Empty DataFrame\n",
       "Columns: []\n",
       "Index: []"
      ]
     },
     "execution_count": 107,
     "metadata": {},
     "output_type": "execute_result"
    }
   ],
   "source": [
    "average"
   ]
  },
  {
   "cell_type": "code",
   "execution_count": 121,
   "metadata": {},
   "outputs": [],
   "source": [
    "system_name = 'rabinovich_fabrikant1d'"
   ]
  },
  {
   "cell_type": "code",
   "execution_count": 122,
   "metadata": {},
   "outputs": [],
   "source": [
    "average = pd.DataFrame()\n",
    "for i in range(6):\n",
    "    result_file0 = './result_1d_rabinovich_fabrikant' +str(i) + '.csv' \n",
    "    df = pd.read_csv(result_file0, index_col = 'datetime')\n",
    "\n",
    "    result = df[df['system_name'].isin([system_name]) & df['horizon'].isin([1])]\n",
    "\n",
    "    final = None\n",
    "    for w in set(result['n_history']):\n",
    "\n",
    "        temp = result.loc[result['n_history'] == w, ['model_name', 'mse', 'n_history']].groupby('model_name').min().reset_index()\n",
    "\n",
    "        final = temp if final is None else final.append(temp, ignore_index=True)\n",
    "        \n",
    "    average = average.append(final)\n"
   ]
  },
  {
   "cell_type": "code",
   "execution_count": 123,
   "metadata": {},
   "outputs": [
    {
     "data": {
      "image/png": "[encoded data removed]",
      "text/plain": [
       "<Figure size 324x288 with 1 Axes>"
      ]
     },
     "metadata": {
      "needs_background": "light"
     },
     "output_type": "display_data"
    }
   ],
   "source": [
    "fig, ax = plt.subplots(figsize=(4.5,4))\n",
    "model_names = ['RBFN', 'RBFLN', 'RBFLN RE 1', 'VAR', ]\n",
    "# model_names = [ 'RBFLN rc', 'RBFLN ESN']\n",
    "for name in model_names:\n",
    "\n",
    "    average.loc[average['model_name'] == name].groupby('n_history').mean().sort_values(by='n_history').plot(ax = ax)\n",
    "\n",
    "# pt[('amin', 'mse', 100, 1.0)].plot(ax=ax)\n",
    "esn = average.loc[average['model_name'] == 'ESN'].groupby('n_history').mean().iloc[0]\n",
    "plt.plot([1,200], [esn,esn], '--')\n",
    "plt.legend(labels= ['RBFN', 'RBFLN', 'RBFLN-RE', 'VAR', 'ESN'], loc='upper left')\n",
    "\n",
    "ax.set_yscale(\"log\")\n",
    "ax.set_xscale(\"log\")\n",
    "plt.xlabel('Embedding dimension')\n",
    "plt.ylabel('Prediction error (MSE)')\n",
    "plt.tight_layout()\n",
    "# plt.title('Chua-like')\n",
    "plt.savefig('../'+system_name+'_mse_window.pdf')\n",
    "# plt.savefig('../_mse_window.pdf')\n",
    "plt.show()"
   ]
  },
  {
   "cell_type": "code",
   "execution_count": null,
   "metadata": {},
   "outputs": [],
   "source": []
  },
  {
   "cell_type": "code",
   "execution_count": null,
   "metadata": {},
   "outputs": [],
   "source": []
  },
  {
   "cell_type": "code",
   "execution_count": null,
   "metadata": {},
   "outputs": [],
   "source": []
  }
 ],
 "metadata": {
  "kernelspec": {
   "display_name": "Python 3",
   "language": "python",
   "name": "python3"
  },
  "language_info": {
   "codemirror_mode": {
    "name": "ipython",
    "version": 3
   },
   "file_extension": ".py",
   "mimetype": "text/x-python",
   "name": "python",
   "nbconvert_exporter": "python",
   "pygments_lexer": "ipython3",
   "version": "3.6.9"
  }
 },
 "nbformat": 4,
 "nbformat_minor": 4
}
